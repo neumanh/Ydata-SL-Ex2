{
  "cells": [
    {
      "cell_type": "markdown",
      "metadata": {
        "id": "chEqqJbLzFew"
      },
      "source": [
        "# Yandex Data Science School\n",
        "## Linear Regression & Regularization Exercise.\n",
        "\n",
        "\n",
        "## Outline\n",
        "In this exercise you will learn the following topics:\n",
        "\n",
        "1. Refresher on how linear regression is solved in batch and in Gradient Descent \n",
        "2. Implementation of Ridge Regression\n",
        "3. Comparing Ridge, Lasso and vanila Linear Regression on a dataset"
      ]
    },
    {
      "cell_type": "markdown",
      "metadata": {
        "id": "qW9qtzOS77sG"
      },
      "source": [
        "# Git Exercise\n",
        "In this exercise you will also experience working with github.\n",
        "\n",
        "You might need to install local python enviroment.\n",
        "Installation Instruction for ex2 - working on a local python environment:\n",
        "https://docs.google.com/document/d/1G0rBo36ff_9JzKy0EkCalK4m_ThNUuJ2bRz463EHK9I\n",
        "\n",
        "## please add the github link of your work below:\n"
      ]
    },
    {
      "cell_type": "markdown",
      "metadata": {
        "id": "DCRBQ0_V77sK"
      },
      "source": [
        "example: https://github.com/username/exercise_name"
      ]
    },
    {
      "cell_type": "markdown",
      "metadata": {
        "id": "mR9UFmk2greT"
      },
      "source": [
        "## Refresher on Ordinary Least Square (OLS) aka Linear Regeression\n",
        "\n",
        "### Lecture Note\n",
        "\n",
        "In Matrix notation, the matrix $X$ is of dimensions $n \\times p$ where each row is an example and each column is a feature dimension. \n",
        "\n",
        "Similarily, $y$ is of dimension $n \\times 1$ and $w$ is of dimensions $p \\times 1$.\n",
        "\n",
        "The model is $\\hat{y}=X\\cdot w$ where we assume for simplicity that $X$'s first columns equals to 1 (one padding), to account for the bias term.\n",
        "\n",
        "Our objective is to optimize the loss $L$ defines as resiudal sum of squares (RSS): \n",
        "\n",
        "$L_{RSS}=\\frac{1}{N}\\left\\Vert Xw-y \\right\\Vert^2$ (notice that in matrix notation this means summing over all examples, so $L$ is scalar.)\n",
        "\n",
        "To find the optimal $w$ one needs to derive the loss with respect to $w$.\n",
        "\n",
        "$\\frac{\\partial{L_{RSS}}}{\\partial{w}}=\\frac{2}{N}X^T(Xw-y)$ (to see why, read about [matrix derivatives](http://www.gatsby.ucl.ac.uk/teaching/courses/sntn/sntn-2017/resources/Matrix_derivatives_cribsheet.pdf) or see class notes )\n",
        "\n",
        "Thus, the gardient descent solution is $w'=w-\\alpha \\frac{2}{N}X^T(Xw-y)$.\n",
        "\n",
        "Solving $\\frac{\\partial{L_{RSS}}}{\\partial{w}}=0$ for $w$ one can also get analytical solution:\n",
        "\n",
        "$w_{OLS}=(X^TX)^{-1}X^Ty$\n",
        "\n",
        "The first term, $(X^TX)^{-1}X^T$ is also called the pseudo inverse of $X$.\n",
        "\n",
        "See [lecture note from Stanford](https://web.stanford.edu/~mrosenfe/soc_meth_proj3/matrix_OLS_NYU_notes.pdf) for more details.\n"
      ]
    },
    {
      "cell_type": "markdown",
      "metadata": {
        "id": "JA3MEKz80vdy"
      },
      "source": [
        "## Exercise 1 - Ordinary Least Square\n",
        "* Get the boston housing dataset by using the scikit-learn package. hint: [load_boston](http://scikit-learn.org/stable/modules/generated/sklearn.datasets.load_boston.html)\n",
        "\n",
        "* What is $p$? what is $n$ in the above notation? hint: [shape](https://docs.scipy.org/doc/numpy-1.15.0/reference/generated/numpy.ndarray.shape.html)\n",
        "\n",
        "* write a model `OrdinaryLinearRegression` which has a propoery $w$ and 3 methods: `fit`, `predict` and `score` (which returns the MSE on a given sample set). Hint: use [numpy.linalg.pinv](https://docs.scipy.org/doc/numpy-1.15.1/reference/generated/numpy.linalg.pinv.html) to be more efficient.\n",
        "\n",
        "* Fit the model. What is the training MSE?\n",
        "\n",
        "* Plot a scatter plot where on x-axis plot $Y$ and in the y-axis $\\hat{Y}_{OLS}$\n",
        "\n",
        "* Split the data to 75% train and 25% test 20 times. What is the average MSE now for train and test? Hint: use [train_test_split](http://scikit-learn.org/stable/modules/generated/sklearn.model_selection.train_test_split.html) or [ShuffleSplit](http://scikit-learn.org/stable/modules/generated/sklearn.model_selection.ShuffleSplit.html).\n",
        "\n",
        "* Use a t-test to proove that the MSE for training is significantly smaller than for testing. What is the p-value? Hint: use [scipy.stats.ttest_rel](https://docs.scipy.org/doc/scipy-0.14.0/reference/generated/scipy.stats.ttest_rel.html). \n",
        "\n",
        "* Write a new class `OrdinaryLinearRegressionGradientDescent` which inherits from `OrdinaryLinearRegression` and solves the problem using gradinet descent. The class should get as a parameter the learning rate and number of iteration. Plot the class convergance. What is the effect of learning rate? How would you find number of iteration automatically? Note: Gradient Descent does not work well when features are not scaled evenly (why?!). Be sure to normalize your features first.\n",
        "\n",
        "* The following parameters are optional (not mandatory to use):\n",
        "    * early_stop - True / False boolean to indicate to stop running when loss stops decaying and False to continue.\n",
        "    * verbose- True/False boolean to turn on / off logging, e.g. print details like iteration number and loss (https://en.wikipedia.org/wiki/Verbose_mode)\n",
        "    * track_loss - True / False boolean when to save loss results to present later in learning curve graphs"
      ]
    },
    {
      "cell_type": "code",
      "execution_count": 118,
      "metadata": {
        "id": "ZuSS8LhcfZdn"
      },
      "outputs": [],
      "source": [
        "import numpy as np\n",
        "\n",
        "\n",
        "class Ols(object):\n",
        "    \"\"\" An implementation on ordinary least squares\"\"\"\n",
        "\n",
        "    def __init__(self):\n",
        "        self.w = None\n",
        "\n",
        "    @staticmethod\n",
        "    def pad(X):\n",
        "        X = np.c_[X, np.ones(X.shape[0])]\n",
        "        return X\n",
        "\n",
        "    def fit(self, X, Y):\n",
        "        # remeber pad with 1 before fitting\n",
        "        # Update the weight\n",
        "        self.w = self._fit(X, Y)\n",
        "\n",
        "    @staticmethod\n",
        "    def _fit(X, Y):\n",
        "        X = Ols.pad(X)\n",
        "        w_ols = np.dot(np.dot(np.linalg.pinv(np.dot(X.T, X)), X.T), Y)\n",
        "        return w_ols\n",
        "\n",
        "    def predict(self, X):\n",
        "        # return wx\n",
        "        pred_y = self._predict(X)\n",
        "        return pred_y\n",
        "\n",
        "    def _predict(self, X):\n",
        "        X = self.pad(X)\n",
        "        pred_y = np.dot(X, self.w)\n",
        "        return pred_y\n",
        "\n",
        "    def score(self, X, Y):\n",
        "        pred_y = self._predict(X)\n",
        "        mse = np.mean((pred_y - Y)**2)\n",
        "        return mse"
      ]
    },
    {
      "cell_type": "markdown",
      "metadata": {
        "id": "LRW1L0NCKQN2"
      },
      "source": [
        "Getting the boston housing dataset by using the scikit-learn package."
      ]
    },
    {
      "cell_type": "code",
      "execution_count": 119,
      "metadata": {
        "colab": {
          "base_uri": "https://localhost:8080/"
        },
        "id": "TdZPQ4EPKQN4",
        "outputId": "a035f3c4-f7e2-4e7d-da58-b033fa95ec16"
      },
      "outputs": [
        {
          "output_type": "stream",
          "name": "stdout",
          "text": [
            ".. _boston_dataset:\n",
            "\n",
            "Boston house prices dataset\n",
            "---------------------------\n",
            "\n",
            "**Data Set Characteristics:**  \n",
            "\n",
            "    :Number of Instances: 506 \n",
            "\n",
            "    :Number of Attributes: 13 numeric/categorical predictive. Median Value (attribute 14) is usually the target.\n",
            "\n",
            "    :Attribute Information (in order):\n",
            "        - CRIM     per capita crime rate by town\n",
            "        - ZN       proportion of residential land zoned for lots over 25,000 sq.ft.\n",
            "        - INDUS    proportion of non-retail business acres per town\n",
            "        - CHAS     Charles River dummy variable (= 1 if tract bounds river; 0 otherwise)\n",
            "        - NOX      nitric oxides concentration (parts per 10 million)\n",
            "        - RM       average number of rooms per dwelling\n",
            "        - AGE      proportion of owner-occupied units built prior to 1940\n",
            "        - DIS      weighted distances to five Boston employment centres\n",
            "        - RAD      index of accessibility to radial highways\n",
            "        - TAX      full-value property-tax rate per $10,000\n",
            "        - PTRATIO  pupil-teacher ratio by town\n",
            "        - B        1000(Bk - 0.63)^2 where Bk is the proportion of black people by town\n",
            "        - LSTAT    % lower status of the population\n",
            "        - MEDV     Median value of owner-occupied homes in $1000's\n",
            "\n",
            "    :Missing Attribute Values: None\n",
            "\n",
            "    :Creator: Harrison, D. and Rubinfeld, D.L.\n",
            "\n",
            "This is a copy of UCI ML housing dataset.\n",
            "https://archive.ics.uci.edu/ml/machine-learning-databases/housing/\n",
            "\n",
            "\n",
            "This dataset was taken from the StatLib library which is maintained at Carnegie Mellon University.\n",
            "\n",
            "The Boston house-price data of Harrison, D. and Rubinfeld, D.L. 'Hedonic\n",
            "prices and the demand for clean air', J. Environ. Economics & Management,\n",
            "vol.5, 81-102, 1978.   Used in Belsley, Kuh & Welsch, 'Regression diagnostics\n",
            "...', Wiley, 1980.   N.B. Various transformations are used in the table on\n",
            "pages 244-261 of the latter.\n",
            "\n",
            "The Boston house-price data has been used in many machine learning papers that address regression\n",
            "problems.   \n",
            "     \n",
            ".. topic:: References\n",
            "\n",
            "   - Belsley, Kuh & Welsch, 'Regression diagnostics: Identifying Influential Data and Sources of Collinearity', Wiley, 1980. 244-261.\n",
            "   - Quinlan,R. (1993). Combining Instance-Based and Model-Based Learning. In Proceedings on the Tenth International Conference of Machine Learning, 236-243, University of Massachusetts, Amherst. Morgan Kaufmann.\n",
            "\n"
          ]
        },
        {
          "output_type": "stream",
          "name": "stderr",
          "text": [
            "/usr/local/lib/python3.8/dist-packages/sklearn/utils/deprecation.py:87: FutureWarning: Function load_boston is deprecated; `load_boston` is deprecated in 1.0 and will be removed in 1.2.\n",
            "\n",
            "    The Boston housing prices dataset has an ethical problem. You can refer to\n",
            "    the documentation of this function for further details.\n",
            "\n",
            "    The scikit-learn maintainers therefore strongly discourage the use of this\n",
            "    dataset unless the purpose of the code is to study and educate about\n",
            "    ethical issues in data science and machine learning.\n",
            "\n",
            "    In this special case, you can fetch the dataset from the original\n",
            "    source::\n",
            "\n",
            "        import pandas as pd\n",
            "        import numpy as np\n",
            "\n",
            "\n",
            "        data_url = \"http://lib.stat.cmu.edu/datasets/boston\"\n",
            "        raw_df = pd.read_csv(data_url, sep=\"\\s+\", skiprows=22, header=None)\n",
            "        data = np.hstack([raw_df.values[::2, :], raw_df.values[1::2, :2]])\n",
            "        target = raw_df.values[1::2, 2]\n",
            "\n",
            "    Alternative datasets include the California housing dataset (i.e.\n",
            "    :func:`~sklearn.datasets.fetch_california_housing`) and the Ames housing\n",
            "    dataset. You can load the datasets as follows::\n",
            "\n",
            "        from sklearn.datasets import fetch_california_housing\n",
            "        housing = fetch_california_housing()\n",
            "\n",
            "    for the California housing dataset and::\n",
            "\n",
            "        from sklearn.datasets import fetch_openml\n",
            "        housing = fetch_openml(name=\"house_prices\", as_frame=True)\n",
            "\n",
            "    for the Ames housing dataset.\n",
            "    \n",
            "  warnings.warn(msg, category=FutureWarning)\n"
          ]
        }
      ],
      "source": [
        "from sklearn.datasets import load_boston\n",
        "\n",
        "X, y = load_boston(return_X_y=True)\n",
        "print(load_boston()['DESCR'])  # To learn about the dataset"
      ]
    },
    {
      "cell_type": "markdown",
      "metadata": {
        "id": "g3nSj1YHKQN6"
      },
      "source": [
        "Fitting the model. What is the training MSE?"
      ]
    },
    {
      "cell_type": "code",
      "execution_count": 120,
      "metadata": {
        "colab": {
          "base_uri": "https://localhost:8080/"
        },
        "id": "z0rxw2qAKQN7",
        "outputId": "872e1ef7-5e22-4703-9c8b-28b5f5f3ff7b"
      },
      "outputs": [
        {
          "output_type": "stream",
          "name": "stdout",
          "text": [
            "MSE: 21.894831181729202\n"
          ]
        }
      ],
      "source": [
        "ols_obj = Ols()\n",
        "ols_obj.fit(X, y)\n",
        "mse = ols_obj.score(X, y)\n",
        "print('MSE:', mse)"
      ]
    },
    {
      "cell_type": "markdown",
      "metadata": {
        "id": "ucR4XyUEKQN8"
      },
      "source": [
        "Plotting a scatter plot where on x-axis plot $Y$ and in the y-axis $\\hat{Y}_{OLS}$"
      ]
    },
    {
      "cell_type": "code",
      "source": [
        "!mkdir plots"
      ],
      "metadata": {
        "id": "O-PIV0DBKYaK",
        "colab": {
          "base_uri": "https://localhost:8080/"
        },
        "outputId": "b8622047-d47a-4431-d7a9-73d73a13e7fd"
      },
      "execution_count": 121,
      "outputs": [
        {
          "output_type": "stream",
          "name": "stdout",
          "text": [
            "mkdir: cannot create directory ‘plots’: File exists\n"
          ]
        }
      ]
    },
    {
      "cell_type": "code",
      "execution_count": 122,
      "metadata": {
        "colab": {
          "base_uri": "https://localhost:8080/",
          "height": 289
        },
        "id": "6QKJwdAAKQN8",
        "outputId": "80aa9119-ea5b-4c5f-c3ad-1a5f2c354d45"
      },
      "outputs": [
        {
          "output_type": "display_data",
          "data": {
            "text/plain": [
              "<Figure size 432x288 with 1 Axes>"
            ],
            "image/png": "[encoded data removed]"
          },
          "metadata": {
            "needs_background": "light"
          }
        }
      ],
      "source": [
        "import matplotlib.pyplot as plt\n",
        "plt.rc('font', size=16) # Enlarging font\n",
        "\n",
        "predicted_y = ols_obj.predict(X)\n",
        "\n",
        "plt.scatter(y, predicted_y)\n",
        "plt.xlabel('True Y')\n",
        "plt.ylabel('Predicted Y')\n",
        "\n",
        "plt.savefig('plots/true_vs_pred.png')  # Saving\n",
        "plt.show();\n",
        "\n"
      ]
    },
    {
      "cell_type": "markdown",
      "metadata": {
        "id": "FejFW8H7KQN9"
      },
      "source": [
        "Splitting the data to 75% train and 25% test 20 times.\n",
        "What is the average MSE now for train and test?"
      ]
    },
    {
      "cell_type": "code",
      "execution_count": 123,
      "metadata": {
        "colab": {
          "base_uri": "https://localhost:8080/"
        },
        "id": "0xm9JYajKQN-",
        "outputId": "6c968b6c-15c2-4ca8-c505-7c9ee0d12c99"
      },
      "outputs": [
        {
          "output_type": "stream",
          "name": "stdout",
          "text": [
            "MSE for train set: 21.234516495467783\n",
            "MSE for test set: 25.21521124274942\n"
          ]
        }
      ],
      "source": [
        "from sklearn.model_selection import train_test_split\n",
        "train_mses = []\n",
        "test_mses = []\n",
        "for _ in range(20):\n",
        "    # Splitting the data\n",
        "    X_train, X_test, y_train, y_test = train_test_split(X, y, test_size=0.25)\n",
        "    # Defining the OLS object and fitting\n",
        "    curr_ols = Ols()\n",
        "    curr_ols.fit(X_train, y_train) \n",
        "    # Evaluating the MSE scores for the train and test sets\n",
        "    train_mses.append(curr_ols.score(X_train, y_train))\n",
        "    test_mses.append(curr_ols.score(X_test, y_test))\n",
        "\n",
        "print('MSE for train set:', np.mean(train_mses))\n",
        "print('MSE for test set:', np.mean(test_mses))"
      ]
    },
    {
      "cell_type": "markdown",
      "metadata": {
        "id": "QNm-pBlxKQN-"
      },
      "source": [
        "We can see that the mean test MSE is larger than the mean train MSE. Let's test the difference significance using T-test:"
      ]
    },
    {
      "cell_type": "code",
      "execution_count": 124,
      "metadata": {
        "colab": {
          "base_uri": "https://localhost:8080/"
        },
        "id": "p-9qNT0bKQN_",
        "outputId": "3780e202-ff21-45c9-b5b3-b3de857013e1"
      },
      "outputs": [
        {
          "output_type": "stream",
          "name": "stdout",
          "text": [
            "Ttest_indResult(statistic=-3.636172342185237, pvalue=0.0014085343353023234)\n",
            "The two MSE values are significantly different\n"
          ]
        }
      ],
      "source": [
        "import scipy.stats as stats\n",
        "\n",
        "# Testing the equality of variance Levene’s test\n",
        "l_w_stats, l_p_value = stats.levene(train_mses,test_mses)\n",
        "\n",
        "# Levene’s test null hypothesis: var1=var2\n",
        "if l_p_value > 0.05:\n",
        "    equal_var = True\n",
        "else:\n",
        "    equal_var = False\n",
        "\n",
        "# Preforming T-test\n",
        "print(stats.ttest_ind(a=train_mses, b=test_mses, equal_var=equal_var))\n",
        "\n",
        "_, t_p_value = stats.ttest_ind(a=train_mses, b=test_mses, equal_var=equal_var)\n",
        "\n",
        "if t_p_value < 0.05:\n",
        "    print('The two MSE values are significantly different')\n",
        "else:\n",
        "    print('The two MSE values are NOT significantly different')\n"
      ]
    },
    {
      "cell_type": "markdown",
      "metadata": {
        "id": "a1_DLOxJKQOA"
      },
      "source": [
        "To Choose the right normalization type, let's examine the feature distributions"
      ]
    },
    {
      "cell_type": "code",
      "execution_count": 125,
      "metadata": {
        "colab": {
          "base_uri": "https://localhost:8080/",
          "height": 938
        },
        "id": "mu99AIrPKQOB",
        "outputId": "1c3e7a1e-0029-4cad-ad08-3ef5b4aa37f9"
      },
      "outputs": [
        {
          "output_type": "display_data",
          "data": {
            "text/plain": [
              "<Figure size 1152x1152 with 16 Axes>"
            ],
            "image/png": "[encoded data removed]"
          },
          "metadata": {
            "needs_background": "light"
          }
        }
      ],
      "source": [
        "# Collecting the features in a dictionary (based on the variable description)\n",
        "\n",
        "feature_dict = {\n",
        "    'CRIM':    X[:,0],\n",
        "    'ZN':      X[:,1],\n",
        "    'INDUS':   X[:,2],\n",
        "    'CHAS':    X[:,3],\n",
        "    'NOX':     X[:,4],\n",
        "    'RM':      X[:,5],\n",
        "    'AGE':     X[:,6],\n",
        "    'DIS':     X[:,7],\n",
        "    'RAD':     X[:,8],\n",
        "    'TAX':     X[:,9],\n",
        "    'PTRATIO': X[:,10],\n",
        "    'B':       X[:,11],\n",
        "    'LSTAT':   X[:,12],\n",
        "}\n",
        "\n",
        "# Plotting\n",
        "plt.rc('font', size=12) # Enlarging font\n",
        "fig, axs = plt.subplots(4, 4, figsize=(16, 16))\n",
        "\n",
        "i = 0\n",
        "# for key, value in feature_dict.items():\n",
        "\n",
        "for key, value in feature_dict.items():\n",
        "    cax = axs[i//4, i%4]  # Current axis\n",
        "    cax.hist(value, density=True)\n",
        "    cax.set_title(key)\n",
        "    i += 1\n",
        "\n",
        "# Leaving the last sublots empty\n",
        "axs[-1, -1].axis('off')\n",
        "axs[-1, -2].axis('off')\n",
        "axs[-1, -3].axis('off')\n",
        "\n",
        "plt.savefig('plots/feature_histograms.png')  # Saving\n",
        "\n",
        "plt.show();"
      ]
    },
    {
      "cell_type": "markdown",
      "metadata": {
        "id": "etfvTCjYKQOC"
      },
      "source": [
        "Creating Q-Q plots for the normality test"
      ]
    },
    {
      "cell_type": "code",
      "execution_count": 126,
      "metadata": {
        "colab": {
          "base_uri": "https://localhost:8080/",
          "height": 1000
        },
        "id": "UWeXoqmyKQOC",
        "outputId": "4bef1cbc-2512-4ca5-8e4a-67efb76675d7"
      },
      "outputs": [
        {
          "output_type": "display_data",
          "data": {
            "text/plain": [
              "<Figure size 1152x1440 with 16 Axes>"
            ],
            "image/png": "[encoded data removed]"
          },
          "metadata": {
            "needs_background": "light"
          }
        }
      ],
      "source": [
        "import scipy\n",
        "# Plotting\n",
        "plt.rc('font', size=10) # Enlarging font\n",
        "fig, axs = plt.subplots(4, 4, figsize=(16, 20))\n",
        "\n",
        "i = 0\n",
        "# for key, value in feature_dict.items():\n",
        "\n",
        "for key, value in feature_dict.items():\n",
        "    cax = axs[i//4, i%4]  # Current axis\n",
        "    #cax.hist(value, density=True)\n",
        "    stats.probplot(value, dist=stats.norm, sparams=(value.mean(), value.std()), plot=cax)\n",
        "    cax.set_title(key)\n",
        "    i += 1\n",
        "\n",
        "# Leaving the last sublots empty\n",
        "axs[-1, -1].axis('off')\n",
        "axs[-1, -2].axis('off')\n",
        "axs[-1, -3].axis('off')\n",
        "\n",
        "plt.savefig('plots/feature_histograms.png')  # Saving\n",
        "\n",
        "plt.show();"
      ]
    },
    {
      "cell_type": "markdown",
      "metadata": {
        "id": "afrslePeKQOD"
      },
      "source": [
        "We can see that about half of the features seem to be normally distributed"
      ]
    },
    {
      "cell_type": "code",
      "execution_count": 127,
      "metadata": {
        "id": "Rx0GRvGk77sV"
      },
      "outputs": [],
      "source": [
        "# Write a new class OlsGd which solves the problem using gradinet descent. \n",
        "# The class should get as a parameter the learning rate and number of iteration. \n",
        "# Plot the loss convergance. for each alpha, learning rate plot the MSE with respect to number of iterations.\n",
        "# What is the effect of learning rate? \n",
        "# How would you find number of iteration automatically? \n",
        "# Note: Gradient Descent does not work well when features are not scaled evenly (why?!). Be sure to normalize your feature first.\n",
        "class Normalizer():\n",
        "  def __init__(self):\n",
        "    self.means = None\n",
        "    self.stds = None\n",
        "\n",
        "  def fit(self, X):\n",
        "    self.means = np.mean(X, axis=0) # The mean of each column (=feature)\n",
        "    self.stds = np.std(X, axis=0) # The STD of each column (=feature)\n",
        "\n",
        "  def predict(self, X):\n",
        "    norm_x = norm_X = (X - self.means)/self.stds\n",
        "    return norm_x\n",
        "  \n",
        "  def __str__(self):\n",
        "    return f'Normalizer \\means: {self.means} \\stds: {self.stds}'"
      ]
    },
    {
      "cell_type": "code",
      "execution_count": 128,
      "metadata": {
        "colab": {
          "base_uri": "https://localhost:8080/"
        },
        "id": "DovaIVrIKQOG",
        "outputId": "759dffd4-ba54-46b8-f5e1-1775d760eac4"
      },
      "outputs": [
        {
          "output_type": "stream",
          "name": "stdout",
          "text": [
            "max befor normalization: 711.0\n",
            "max after normalization: 9.933930601860268\n",
            "----------------------\n",
            "[[-0.41978194  0.28482986 -1.2879095  ... -1.45900038  0.44105193\n",
            "  -1.0755623 ]\n",
            " [-0.41733926 -0.48772236 -0.59338101 ... -0.30309415  0.44105193\n",
            "  -0.49243937]\n",
            " [-0.41734159 -0.48772236 -0.59338101 ... -0.30309415  0.39642699\n",
            "  -1.2087274 ]\n",
            " ...\n",
            " [-0.41344658 -0.48772236  0.11573841 ...  1.17646583  0.44105193\n",
            "  -0.98304761]\n",
            " [-0.40776407 -0.48772236  0.11573841 ...  1.17646583  0.4032249\n",
            "  -0.86530163]\n",
            " [-0.41500016 -0.48772236  0.11573841 ...  1.17646583  0.44105193\n",
            "  -0.66905833]]\n",
            "9.933930601860268\n"
          ]
        }
      ],
      "source": [
        "################ TESTING NORMALIZAION ON BOSTON DS ###############\n",
        "from sklearn.preprocessing import StandardScaler\n",
        "\n",
        "norm = Normalizer()\n",
        "norm.fit(X)\n",
        "norm_X = norm.predict(X)\n",
        "print('max befor normalization:', np.max(X))\n",
        "print('max after normalization:', np.max(norm_X))\n",
        "\n",
        "print('----------------------')\n",
        "\n",
        "scaler = StandardScaler()\n",
        "(scaler.fit(X))\n",
        "print(scaler.transform(X))\n",
        "print(scaler.transform(X).max())"
      ]
    },
    {
      "cell_type": "code",
      "execution_count": 129,
      "metadata": {
        "colab": {
          "base_uri": "https://localhost:8080/"
        },
        "id": "bd57E1lKKQOG",
        "outputId": "2f35cbd3-0707-47a8-9364-d94d94514190"
      },
      "outputs": [
        {
          "output_type": "stream",
          "name": "stdout",
          "text": [
            "[[0 1 2]\n",
            " [3 4 5]\n",
            " [6 7 8]]\n",
            "[[-1.22474487 -1.22474487 -1.22474487]\n",
            " [ 0.          0.          0.        ]\n",
            " [ 1.22474487  1.22474487  1.22474487]]\n",
            "---------------------------\n",
            "[3. 4. 5.]\n",
            "[[-1.22474487 -1.22474487 -1.22474487]\n",
            " [ 0.          0.          0.        ]\n",
            " [ 1.22474487  1.22474487  1.22474487]]\n"
          ]
        }
      ],
      "source": [
        "############### TESTING NORMALIZAION ##############\n",
        "from sklearn.preprocessing import StandardScaler\n",
        "\n",
        "vec1 = np.array([[0, 1, 2], [3, 4, 5], [6, 7, 8]])\n",
        "vec2 = np.array([1, 4, 9])   \n",
        "\n",
        "norm = Normalizer()\n",
        "norm.fit(vec1)\n",
        "print(vec1)\n",
        "print(norm.predict(vec1))\n",
        "#print(norm.transform([10, 20, 30]))\n",
        "\n",
        "print('---------------------------')\n",
        "scaler = StandardScaler()\n",
        "(scaler.fit(vec1))\n",
        "print(scaler.mean_)\n",
        "print(scaler.transform(vec1))"
      ]
    },
    {
      "cell_type": "markdown",
      "source": [
        "### Gradient Descent Class"
      ],
      "metadata": {
        "id": "SkBaVl4pWYDx"
      }
    },
    {
      "cell_type": "markdown",
      "source": [
        "We will calculate the derivitive based on $\\frac{\\partial{L_{RSS}}}{\\partial{w}}=\\frac{2}{N}X^T(Xw-y)$    \n",
        "And the gardient descent solution is given by $w'=w-\\alpha \\frac{2}{N}X^T(Xw-y)$.\n"
      ],
      "metadata": {
        "id": "CFutlo0jWGEp"
      }
    },
    {
      "cell_type": "code",
      "execution_count": 130,
      "metadata": {
        "id": "P2V-NTdBKQOE"
      },
      "outputs": [],
      "source": [
        "class OlsGd(Ols):\n",
        "  \n",
        "  def __init__(self, learning_rate=.05, \n",
        "               num_iteration=1000, \n",
        "               normalize=True,\n",
        "               early_stop=True,\n",
        "               verbose=True):\n",
        "    \n",
        "    super(OlsGd, self).__init__()\n",
        "    self.learning_rate = learning_rate\n",
        "    self.num_iteration = num_iteration\n",
        "    self.early_stop = early_stop\n",
        "    self.normalize = normalize\n",
        "    self.normalizer = Normalizer()    \n",
        "    self.verbose = verbose\n",
        "    \n",
        "  def _fit(self, X, Y, reset=True, track_loss=True):\n",
        "    #remeber to normalize the data before starting\n",
        "    X0 = X  # Saving the original X\n",
        "    if self.normalize:\n",
        "        self.normalizer.fit(X)\n",
        "        X = self.normalizer.predict(X)\n",
        "    pad_X = self.pad(X)\n",
        "    self.w = np.random.randint(100, size=pad_X.shape[1]) # Random initial weights\n",
        "    w0 = np.random.randint(100, size=pad_X.shape[1]) # Random initial weights\n",
        "    i = 0\n",
        "    while not self._should_stop_func(i, w0):\n",
        "      w0 = self.w  # The previous step w, for early stop\n",
        "      self._step(pad_X, Y)\n",
        "      i += 1\n",
        "      if self.verbose:\n",
        "          loss = self.score(X0, Y)  # Computing the loss\n",
        "          print(f'Iteration {i} error: {loss}')\n",
        "    print(f'Final step: iteration #: {i} Error: {self.score(X0, Y)}')\n",
        "    return self.w\n",
        "  \n",
        "  def _derive(self, X, Y):\n",
        "    \"\"\" Derives the w \"\"\"\n",
        "    n = X.shape[0]\n",
        "    grad_x = (2/n)*np.dot(X.T, (np.dot(X, self.w) - Y))\n",
        "    return grad_x\n",
        "    \n",
        "  def _predict(self, X):\n",
        "    if self.normalize:\n",
        "        X = self.normalizer.predict(X)\n",
        "    #pred_y = np.dot(X, self.w)\n",
        "    pred_y = super()._predict(X)\n",
        "\n",
        "    return pred_y\n",
        "  \n",
        "  def _step(self, X, Y):\n",
        "    # use w update for gradient descent\n",
        "    grad_x = self._derive(X, Y)\n",
        "    self.w = self.w - np.dot(self.learning_rate, grad_x)\n",
        "\n",
        "  def _should_stop_func(self, current_step, w0, delta = 0.01):\n",
        "    \"\"\"Returns true if the functin shpuld stop\"\"\"\n",
        "    should_stop = False\n",
        "    if current_step >= self.num_iteration:\n",
        "      should_stop = True\n",
        "    elif (self.early_stop) and (abs(self.w - w0) <= delta).all():\n",
        "      should_stop = True\n",
        "    return should_stop"
      ]
    },
    {
      "cell_type": "code",
      "execution_count": 131,
      "metadata": {
        "colab": {
          "base_uri": "https://localhost:8080/"
        },
        "id": "YdpcFIL8KQOF",
        "outputId": "89758633-5c96-4951-a986-1ffd58108ce2"
      },
      "outputs": [
        {
          "output_type": "stream",
          "name": "stdout",
          "text": [
            "Iteration 1 error: 18304.169822196163\n",
            "Iteration 2 error: 11464.140048767937\n",
            "Iteration 3 error: 8674.508318453512\n",
            "Iteration 4 error: 6707.898961089182\n",
            "Iteration 5 error: 5230.668830902524\n",
            "Iteration 6 error: 4107.399092878368\n",
            "Iteration 7 error: 3246.8270654903704\n",
            "Iteration 8 error: 2583.2308491353974\n",
            "Iteration 9 error: 2068.47804621276\n",
            "Iteration 10 error: 1666.9377933420294\n",
            "Iteration 11 error: 1352.0094787413034\n",
            "Iteration 12 error: 1103.6951451133605\n",
            "Iteration 13 error: 906.8711203995025\n",
            "Iteration 14 error: 750.0399968546757\n",
            "Iteration 15 error: 624.4193683082023\n",
            "Iteration 16 error: 523.270558570426\n",
            "Iteration 17 error: 441.4006193025486\n",
            "Iteration 18 error: 374.79071592262545\n",
            "Iteration 19 error: 320.317457068199\n",
            "Iteration 20 error: 275.5430203452798\n",
            "Iteration 21 error: 238.5564738211312\n",
            "Iteration 22 error: 207.85336791076458\n",
            "Iteration 23 error: 182.24404830052225\n",
            "Iteration 24 error: 160.7835998358944\n",
            "Iteration 25 error: 142.71813528299924\n",
            "Iteration 26 error: 127.44347357520249\n",
            "Iteration 27 error: 114.47323825344591\n",
            "Iteration 28 error: 103.41414036824884\n",
            "Iteration 29 error: 93.94675763827647\n",
            "Iteration 30 error: 85.81053155882356\n",
            "Iteration 31 error: 78.79201186544091\n",
            "Iteration 32 error: 72.71560936063631\n",
            "Iteration 33 error: 67.43629286945234\n",
            "Iteration 34 error: 62.83379828237772\n",
            "Iteration 35 error: 58.80801788737063\n",
            "Iteration 36 error: 55.27531439962461\n",
            "Iteration 37 error: 52.165562180298224\n",
            "Iteration 38 error: 49.41976252105126\n",
            "Iteration 39 error: 46.98811388229671\n",
            "Iteration 40 error: 44.82844410803974\n",
            "Iteration 41 error: 42.9049317817188\n",
            "Iteration 42 error: 41.18705945717459\n",
            "Iteration 43 error: 39.64875357239106\n",
            "Iteration 44 error: 38.267675246573425\n",
            "Iteration 45 error: 37.02463349321184\n",
            "Iteration 46 error: 35.903098125020314\n",
            "Iteration 47 error: 34.88879414133713\n",
            "Iteration 48 error: 33.969362950416055\n",
            "Iteration 49 error: 33.13407859951383\n",
            "Iteration 50 error: 32.3736094274435\n",
            "Iteration 51 error: 31.679817342758245\n",
            "Iteration 52 error: 31.045588362976495\n",
            "Iteration 53 error: 30.46468920151399\n",
            "Iteration 54 error: 29.93164561781263\n",
            "Iteration 55 error: 29.44163899825951\n",
            "Iteration 56 error: 28.990418246672743\n",
            "Iteration 57 error: 28.574224561525394\n",
            "Iteration 58 error: 28.18972708486923\n",
            "Iteration 59 error: 27.833967742662217\n",
            "Iteration 60 error: 27.50431387183963\n",
            "Iteration 61 error: 27.198417457112548\n",
            "Iteration 62 error: 26.914179989019196\n",
            "Iteration 63 error: 26.649722111332707\n",
            "Iteration 64 error: 26.40335735629393\n",
            "Iteration 65 error: 26.173569374941483\n",
            "Iteration 66 error: 25.958992160826075\n",
            "Iteration 67 error: 25.75839284169491\n",
            "Iteration 68 error: 25.57065667782394\n",
            "Iteration 69 error: 25.394773959616778\n",
            "Iteration 70 error: 25.22982854257003\n",
            "Iteration 71 error: 25.074987796117068\n",
            "Iteration 72 error: 24.929493775358537\n",
            "Iteration 73 error: 24.79265545222122\n",
            "Iteration 74 error: 24.663841865950058\n",
            "Iteration 75 error: 24.542476072691137\n",
            "Iteration 76 error: 24.42802979081641\n",
            "Iteration 77 error: 24.32001865303498\n",
            "Iteration 78 error: 24.21799798861562\n",
            "Iteration 79 error: 24.121559069535888\n",
            "Iteration 80 error: 24.03032576334489\n",
            "Iteration 81 error: 23.943951543211046\n",
            "Iteration 82 error: 23.862116812214087\n",
            "Iteration 83 error: 23.78452650459617\n",
            "Iteration 84 error: 23.710907931548835\n",
            "Iteration 85 error: 23.64100884329592\n",
            "Iteration 86 error: 23.57459568283795\n",
            "Iteration 87 error: 23.511452009833995\n",
            "Iteration 88 error: 23.451377075784215\n",
            "Iteration 89 error: 23.394184534000974\n",
            "Iteration 90 error: 23.339701269869856\n",
            "Iteration 91 error: 23.287766338648826\n",
            "Iteration 92 error: 23.23822999957064\n",
            "Iteration 93 error: 23.190952836333608\n",
            "Iteration 94 error: 23.145804955215112\n",
            "Iteration 95 error: 23.102665253045707\n",
            "Iteration 96 error: 23.06142074815751\n",
            "Iteration 97 error: 23.02196596818785\n",
            "Iteration 98 error: 22.984202389291085\n",
            "Iteration 99 error: 22.94803792190159\n",
            "Iteration 100 error: 22.91338643870976\n",
            "Iteration 101 error: 22.880167340969816\n",
            "Iteration 102 error: 22.84830515966119\n",
            "Iteration 103 error: 22.817729188381428\n",
            "Iteration 104 error: 22.78837314516399\n",
            "Iteration 105 error: 22.76017486069343\n",
            "Iteration 106 error: 22.73307599063891\n",
            "Iteration 107 error: 22.70702175004768\n",
            "Iteration 108 error: 22.681960667936753\n",
            "Iteration 109 error: 22.657844360396613\n",
            "Iteration 110 error: 22.63462732067777\n",
            "Iteration 111 error: 22.612266724871223\n",
            "Iteration 112 error: 22.59072225192022\n",
            "Iteration 113 error: 22.56995591681349\n",
            "Iteration 114 error: 22.54993191591216\n",
            "Iteration 115 error: 22.53061648345413\n",
            "Iteration 116 error: 22.511977758362452\n",
            "Iteration 117 error: 22.493985660558987\n",
            "Iteration 118 error: 22.476611776052106\n",
            "Iteration 119 error: 22.459829250128745\n",
            "Iteration 120 error: 22.44361268803635\n",
            "Iteration 121 error: 22.42793806259088\n",
            "Iteration 122 error: 22.412782628192993\n",
            "Iteration 123 error: 22.398124840776163\n",
            "Iteration 124 error: 22.383944283248624\n",
            "Iteration 125 error: 22.37022159602585\n",
            "Iteration 126 error: 22.356938412281867\n",
            "Iteration 127 error: 22.3440772975769\n",
            "Iteration 128 error: 22.331621693545163\n",
            "Iteration 129 error: 22.319555865351266\n",
            "Iteration 130 error: 22.307864852645604\n",
            "Iteration 131 error: 22.296534423769927\n",
            "Iteration 132 error: 22.28555103298286\n",
            "Iteration 133 error: 22.27490178049249\n",
            "Iteration 134 error: 22.264574375098995\n",
            "Iteration 135 error: 22.25455709926492\n",
            "Iteration 136 error: 22.24483877644417\n",
            "Iteration 137 error: 22.23540874051318\n",
            "Iteration 138 error: 22.22625680715916\n",
            "Iteration 139 error: 22.217373247090915\n",
            "Iteration 140 error: 22.208748760947344\n",
            "Iteration 141 error: 22.200374455787912\n",
            "Iteration 142 error: 22.192241823057522\n",
            "Iteration 143 error: 22.184342717926015\n",
            "Iteration 144 error: 22.176669339909587\n",
            "Iteration 145 error: 22.169214214687965\n",
            "Iteration 146 error: 22.161970177037343\n",
            "Iteration 147 error: 22.154930354804616\n",
            "Iteration 148 error: 22.148088153853763\n",
            "Iteration 149 error: 22.14143724392002\n",
            "Iteration 150 error: 22.134971545311963\n",
            "Iteration 151 error: 22.12868521640581\n",
            "Iteration 152 error: 22.122572641880094\n",
            "Iteration 153 error: 22.116628421642385\n",
            "Iteration 154 error: 22.110847360403213\n",
            "Iteration 155 error: 22.10522445785519\n",
            "Iteration 156 error: 22.099754899418507\n",
            "Iteration 157 error: 22.094434047516238\n",
            "Iteration 158 error: 22.089257433345782\n",
            "Iteration 159 error: 22.08422074911477\n",
            "Iteration 160 error: 22.079319840711978\n",
            "Iteration 161 error: 22.074550700785867\n",
            "Iteration 162 error: 22.06990946220506\n",
            "Iteration 163 error: 22.065392391876927\n",
            "Iteration 164 error: 22.060995884901914\n",
            "Iteration 165 error: 22.05671645904287\n",
            "Iteration 166 error: 22.052550749489892\n",
            "Iteration 167 error: 22.048495503902597\n",
            "Iteration 168 error: 22.044547577712798\n",
            "Iteration 169 error: 22.04070392967186\n",
            "Iteration 170 error: 22.03696161762785\n",
            "Iteration 171 error: 22.033317794518723\n",
            "Iteration 172 error: 22.029769704568636\n",
            "Iteration 173 error: 22.026314679675206\n",
            "Iteration 174 error: 22.022950135976604\n",
            "Iteration 175 error: 22.01967357058768\n",
            "Iteration 176 error: 22.016482558495515\n",
            "Iteration 177 error: 22.013374749604868\n",
            "Iteration 178 error: 22.01034786592509\n",
            "Iteration 179 error: 22.007399698890257\n",
            "Iteration 180 error: 22.004528106805\n",
            "Iteration 181 error: 22.00173101240891\n",
            "Iteration 182 error: 21.999006400552826\n",
            "Iteration 183 error: 21.996352315980833\n",
            "Iteration 184 error: 21.99376686121201\n",
            "Iteration 185 error: 21.99124819451658\n",
            "Iteration 186 error: 21.988794527981185\n",
            "Iteration 187 error: 21.986404125658535\n",
            "Iteration 188 error: 21.98407530179689\n",
            "Iteration 189 error: 21.981806419145094\n",
            "Iteration 190 error: 21.97959588732921\n",
            "Iteration 191 error: 21.977442161296945\n",
            "Iteration 192 error: 21.975343739826407\n",
            "Iteration 193 error: 21.97329916409581\n",
            "Final step: iteration #: 193 Error: 21.97329916409581\n"
          ]
        },
        {
          "output_type": "execute_result",
          "data": {
            "text/plain": [
              "21.97329916409581"
            ]
          },
          "metadata": {},
          "execution_count": 131
        }
      ],
      "source": [
        "######### TESTING OlsGD on Boston DS #############\n",
        "\n",
        "olsgd = OlsGd(verbose=True, learning_rate=0.1)\n",
        "olsgd.fit(X, y)\n",
        "olsgd.score(X, y)"
      ]
    },
    {
      "cell_type": "code",
      "execution_count": 132,
      "metadata": {
        "colab": {
          "base_uri": "https://localhost:8080/"
        },
        "id": "50KI_LkZKQOF",
        "outputId": "f527b18a-199a-4dc6-fd8c-ae0c2c424ff8"
      },
      "outputs": [
        {
          "output_type": "stream",
          "name": "stdout",
          "text": [
            "Final step: iteration #: 84 Error: 0.02097460630026955\n"
          ]
        },
        {
          "output_type": "execute_result",
          "data": {
            "text/plain": [
              "0.02097460630026955"
            ]
          },
          "metadata": {},
          "execution_count": 132
        }
      ],
      "source": [
        "######### TESTING OlsGD #############\n",
        "\n",
        "temp_X = np.random.rand(10, 2)\n",
        "temp_y = np.sum(temp_X, axis=1)*5 + 4\n",
        "\n",
        "olsgd = OlsGd(verbose=False)\n",
        "olsgd.fit(temp_X, temp_y)\n",
        "olsgd.score(temp_X, temp_y)"
      ]
    },
    {
      "cell_type": "markdown",
      "metadata": {
        "id": "7HVfnXvZFi98"
      },
      "source": [
        "## Exercise 2 - Ridge Linear Regression\n",
        "\n",
        "Recall that ridge regression is identical to OLS but with a L2 penalty over the weights:\n",
        "\n",
        "$L(y,\\hat{y})=\\sum_{i=1}^{i=N}{(y^{(i)}-\\hat{y}^{(i)})^2} + \\lambda \\left\\Vert w \\right\\Vert_2^2$\n",
        "\n",
        "where $y^{(i)}$ is the **true** value and $\\hat{y}^{(i)}$ is the **predicted** value of the $i_{th}$ example, and $N$ is the number of examples\n",
        "\n",
        "* Show, by differentiating the above loss, that the analytical solution is $w_{Ridge}=(X^TX+\\lambda I)^{-1}X^Ty$\n",
        "* Change `OrdinaryLinearRegression` and `OrdinaryLinearRegressionGradientDescent` classes to work also for ridge regression (do not use the random noise analogy but use the analytical derivation). Either add a parameter, or use inheritance.\n",
        "* **Bonus: Noise as a regularizer**: Show that OLS (ordinary least square), if one adds multiplicative noise to the features the **average** solution for $W$ is equivalent to Ridge regression. In other words, if $X'= X*G$ where $G$ is an uncorrelated noise with variance $\\sigma$ and mean 1, then solving for $X'$ with OLS is like solving Ridge for $X$. What is the interpretation? \n",
        "\n"
      ]
    },
    {
      "cell_type": "markdown",
      "source": [
        "$A^{2}=A^{T}A$   \n",
        "$\\hat{y}\\,=\\,Xw$   \n",
        "$u^{T}A=(A^{T}u)^{T}$   \n",
        "   \n",
        "    \n",
        "$L(y,\\hat{y})=\\sum_{i=1}^{i=N}{(y^{(i)}-\\hat{y}^{(i)})^2} + \\lambda \\left\\Vert w \\right\\Vert_2^2 = $   \n",
        "$\\sum_{i=1}^{N}\\left(y^{\\left(i\\right)}-\\hat{y}^{\\left(i\\right)}\\right)^{T}\\cdot\\left(y^{\\left(i\\right)}-\\hat{y}^{\\left(i\\right)}\\right)\\,+\\,\\lambda w^{T}w\\,= $ \n",
        "$\\,\\sum_{i=1}^{N}\\left(y^{\\left(i\\right)}-X^{\\left(i\\right)}w\\right)^{T}\\cdot\\left(y^{\\left(i\\right)}-X^{\\left(i\\right)}w\\right)\\,+\\,\\lambda w^{T}w$\n",
        "\n",
        "$\\frac{dL}{dw}=−2X^{T}(y−w^{T}X)\\,+\\,2λw$    \n",
        "$\\frac{dL}{dw}=0$   \n",
        "$−2X^{T}(y−w^{T}X)\\,+\\,2λw\\,=\\,0$   \n",
        "$λw\\,=\\,X^{T}(y−w^{T}X)\\,$     \n",
        "$X^{T}y=X^{T}Xw+λw$    \n",
        "$w=(X^{T}X+λI)^{-1}X^{T}y$  \n",
        "\n"
      ],
      "metadata": {
        "id": "GqsX51XPAVEA"
      }
    },
    {
      "cell_type": "code",
      "execution_count": 133,
      "metadata": {
        "id": "JKrcabv777sY"
      },
      "outputs": [],
      "source": [
        "class RidgeLs(Ols):\n",
        "  def __init__(self, ridge_lambda, *wargs, **kwargs):\n",
        "    super(RidgeLs,self).__init__(*wargs, **kwargs)\n",
        "    self.ridge_lambda = ridge_lambda\n",
        "    \n",
        "  def _fit(self, X, Y):\n",
        "    #Closed form of ridge regression\n",
        "    X = self.pad(X)\n",
        "    in_brackets = np.dot(X.T, X) + np.dot(self.ridge_lambda, np.identity(X.shape[1]))\n",
        "    w_ridge = np.dot(np.dot(np.linalg.pinv(in_brackets), X.T), Y)\n",
        "    return w_ridge\n",
        "    "
      ]
    },
    {
      "cell_type": "markdown",
      "source": [
        "We will use the derivitive:   \n",
        "$\\frac{dL}{dw}=−2X^{T}(y−w^{T}X)\\,+\\,2λw$    "
      ],
      "metadata": {
        "id": "fI5eXdo6M81c"
      }
    },
    {
      "cell_type": "code",
      "source": [
        "class RidgeGd(OlsGd):\n",
        "  def __init__(self, ridge_lambda, *wargs, **kwargs):\n",
        "    super(RidgeGd,self).__init__(*wargs, **kwargs)\n",
        "    self.ridge_lambda = ridge_lambda  \n",
        "    \n",
        "  def _derive(self, X, Y):\n",
        "    \"\"\" Derives the w \"\"\"\n",
        "    n = X.shape[0]\n",
        "    grad_x = (2/n)*np.dot(X.T, (np.dot(X, self.w) - Y)) + self.ridge_lambda * self.w\n",
        "    return grad_x"
      ],
      "metadata": {
        "id": "shMiwGA0K4Pz"
      },
      "execution_count": 146,
      "outputs": []
    },
    {
      "cell_type": "code",
      "source": [
        "# Using the RidgeLs class\n",
        "olsrd = RidgeLs(ridge_lambda=0.01)\n",
        "olsrd.fit(X, y)\n",
        "print('Score:\\t',olsrd.score(X, y))"
      ],
      "metadata": {
        "colab": {
          "base_uri": "https://localhost:8080/"
        },
        "id": "Z5T4DIHHGf7p",
        "outputId": "ba74e75f-b853-4a25-ec19-69b6094805da"
      },
      "execution_count": 144,
      "outputs": [
        {
          "output_type": "stream",
          "name": "stdout",
          "text": [
            "Score:\t 21.895280305617995\n"
          ]
        }
      ]
    },
    {
      "cell_type": "code",
      "source": [
        "# Using the RidgeGd class\n",
        "olsrdgd = RidgeGd(ridge_lambda=0.01, verbose=False)\n",
        "olsrdgd.fit(X, y)\n",
        "print('Score:\\t', olsrdgd.score(X, y))"
      ],
      "metadata": {
        "colab": {
          "base_uri": "https://localhost:8080/"
        },
        "id": "409sdCFKN_9U",
        "outputId": "a1f7dd88-fa34-4b90-dcb7-16dbf0160271"
      },
      "execution_count": 147,
      "outputs": [
        {
          "output_type": "stream",
          "name": "stdout",
          "text": [
            "Final step: iteration #: 260 Error: 22.05059964424714\n",
            "Score:\t 22.05059964424714\n"
          ]
        }
      ]
    },
    {
      "cell_type": "markdown",
      "metadata": {
        "id": "voV47cV577se"
      },
      "source": [
        "### Use scikitlearn implementation for OLS, Ridge and Lasso"
      ]
    },
    {
      "cell_type": "code",
      "execution_count": 143,
      "metadata": {
        "id": "KtdXmQ4T77sf",
        "colab": {
          "base_uri": "https://localhost:8080/"
        },
        "outputId": "c502bb08-255e-48c7-f63d-fb4d2c67f6ea"
      },
      "outputs": [
        {
          "output_type": "stream",
          "name": "stdout",
          "text": [
            "MSE for OLS:\t 21.894831181729202\n",
            "MSE for Ridge:\t 21.894871212183002\n",
            "MSE for Lasso:\t 21.931375520202067\n"
          ]
        }
      ],
      "source": [
        "from sklearn.linear_model import LinearRegression\n",
        "from sklearn.linear_model import Ridge\n",
        "from sklearn.linear_model import Lasso\n",
        "from sklearn.metrics import mean_squared_error\n",
        "\n",
        "lr = LinearRegression()\n",
        "lr.fit(X, y)\n",
        "lr_pred = lr.predict(X)\n",
        "lr_mse = mean_squared_error(y, lr_pred)\n",
        "print('MSE for OLS:\\t', lr_mse)\n",
        "\n",
        "lrr = Ridge(alpha=0.01)\n",
        "lrr.fit(X, y)\n",
        "lrr_pred = lrr.predict(X)\n",
        "lrr_mse = mean_squared_error(y, lrr_pred)\n",
        "print('MSE for Ridge:\\t', lrr_mse)\n",
        "\n",
        "lrl = Lasso(alpha=0.01)\n",
        "lrl.fit(X, y)\n",
        "lrl_pred = lrl.predict(X)\n",
        "lrl_mse = mean_squared_error(y, lrl_pred)\n",
        "print('MSE for Lasso:\\t', lrl_mse)\n",
        "\n"
      ]
    }
  ],
  "metadata": {
    "colab": {
      "provenance": []
    },
    "kernelspec": {
      "display_name": "Python 3",
      "language": "python",
      "name": "python3"
    },
    "language_info": {
      "codemirror_mode": {
        "name": "ipython",
        "version": 3
      },
      "file_extension": ".py",
      "mimetype": "text/x-python",
      "name": "python",
      "nbconvert_exporter": "python",
      "pygments_lexer": "ipython3",
      "version": "3.6.8"
    },
    "vscode": {
      "interpreter": {
        "hash": "d207591e6ff77a7c5fb4cef0dd9fd3703274637a9d0902d2045beb3a65bf572a"
      }
    }
  },
  "nbformat": 4,
  "nbformat_minor": 0
}